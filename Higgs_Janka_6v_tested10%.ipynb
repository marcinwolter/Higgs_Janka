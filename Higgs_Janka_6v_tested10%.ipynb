{
  "nbformat": 4,
  "nbformat_minor": 0,
  "metadata": {
    "accelerator": "GPU",
    "colab": {
      "name": "Higgs_Janka.ipynb",
      "provenance": [],
      "collapsed_sections": [],
      "include_colab_link": true
    },
    "kernelspec": {
      "display_name": "Python 3",
      "name": "python3"
    }
  },
  "cells": [
    {
      "cell_type": "markdown",
      "metadata": {
        "id": "view-in-github",
        "colab_type": "text"
      },
      "source": [
        "<a href=\"https://colab.research.google.com/github/marcinwolter/Higgs_Janka/blob/main/Higgs_Janka_6v_tested10%25.ipynb\" target=\"_parent\"><img src=\"https://colab.research.google.com/assets/colab-badge.svg\" alt=\"Open In Colab\"/></a>"
      ]
    },
    {
      "cell_type": "markdown",
      "metadata": {
        "id": "37Jv35GJSWKI"
      },
      "source": [
        "Higgs analysis of Janka\n",
        "\n",
        "author: Marcin Wolter, February 2021"
      ]
    },
    {
      "cell_type": "code",
      "metadata": {
        "id": "DH9xuJAzk4c0"
      },
      "source": [
        "import matplotlib.pyplot as plt\n",
        "import numpy as np\n",
        "\n",
        "import tensorflow as tf\n",
        "import pandas as pd\n",
        "\n",
        "from keras.models import Sequential\n",
        "from keras.layers import Dense, Dropout, Flatten\n",
        "\n",
        "from keras.optimizers import RMSprop, Adam, Adadelta\n",
        "from keras.callbacks import EarlyStopping\n",
        "\n",
        "from keras.utils.vis_utils import plot_model\n",
        "from keras.utils import to_categorical\n",
        "from IPython.display import Image \n",
        "\n",
        "from sklearn.model_selection import KFold\n",
        "from sklearn.model_selection import train_test_split\n",
        "from sklearn.metrics import roc_auc_score, roc_curve, auc\n",
        "\n",
        "from tensorflow.keras.layers.experimental import preprocessing"
      ],
      "execution_count": null,
      "outputs": []
    },
    {
      "cell_type": "markdown",
      "metadata": {
        "id": "U4jqXanASmKP"
      },
      "source": [
        "Read the cvs input data from google disk and create DataFrame\n",
        "\n",
        "IMPORTANT: from background only a part of events is read (we read an equal number of signal and background events)"
      ]
    },
    {
      "cell_type": "code",
      "metadata": {
        "colab": {
          "base_uri": "https://localhost:8080/"
        },
        "id": "LRtOh1IbkCjM",
        "outputId": "02c9009d-050e-4eb9-8d66-57c78ef7261d"
      },
      "source": [
        "# Read csv data\n",
        "\n",
        "from google.colab import drive\n",
        "drive.mount('/content/drive')\n",
        "\n",
        "#masses = [200, 250, 300, 350, 400, 500, 600, 700, 800, 1200, 1500, 2000, 2500]\n",
        "masses = [200, 250, 300, 350, 400, 500, 600, 700, 2500]\n",
        "\n",
        "bckg = []\n",
        "sig = []\n",
        "for i in range(len(masses)):\n",
        "  bckg_str = '/content/drive/MyDrive/jkrzysiak/data/Ztautau_'+str(masses[i])+'GeV.csv'\n",
        "  bckg.append(pd.read_csv(bckg_str) )\n",
        "  sig_str = '/content/drive/MyDrive/jkrzysiak/data/signal_'+str(masses[i])+'GeV.csv'\n",
        "  sig.append(pd.read_csv(sig_str) )\n",
        "\n",
        "\n",
        "#print(bckg)\n",
        "\n",
        "XX = []\n",
        "YY = []\n",
        "WEIGHT = []\n",
        "\n",
        "for i in range(len(masses)):\n",
        "  xs = sig[i][['MTtot', 'vis_mass', 'lephad_mmc_maxw_m',  'tau_pt', 'signal_mass']]\n",
        "###  xs = sig[i][['MTtot',  'signal_mass']]\n",
        "  xsw= sig[i][['weight']]\n",
        "  xb = bckg[i][['MTtot', 'vis_mass', 'lephad_mmc_maxw_m',  'tau_pt', 'signal_mass']] #.head(len(xs))\n",
        "###  xb = bckg[i][['MTtot',  'signal_mass']] #.head(len(xs))\n",
        "  xbw= bckg[i][['weight']] #.head(len(xs))\n",
        "  ys = pd.DataFrame(data=np.ones(len(xs)), columns=[\"vClass\"])\n",
        "  yb = pd.DataFrame(data=np.zeros(len(xb)), columns=[\"vClass\"])\n",
        "\n",
        "  sum_sw = xsw.sum()\n",
        "  sum_bw = xbw.sum()\n",
        "  xsw = xsw.mul(sum_bw/sum_sw)\n",
        "\n",
        "  x = pd.concat([xs, xb]) \n",
        "  y = pd.concat([ys, yb])\n",
        "  w = pd.concat([xsw, xbw])\n",
        "\n",
        "  XX.append(x)\n",
        "  YY.append(y)\n",
        "  WEIGHT.append(w)\n",
        "\n",
        "  print(x.shape, y.shape, w.shape)\n",
        "\n"
      ],
      "execution_count": null,
      "outputs": [
        {
          "output_type": "stream",
          "text": [
            "Mounted at /content/drive\n",
            "(1414396, 5) (1414396, 1) (1414396, 1)\n",
            "(1425476, 5) (1425476, 1) (1425476, 1)\n",
            "(1446300, 5) (1446300, 1) (1446300, 1)\n",
            "(1461095, 5) (1461095, 1) (1461095, 1)\n",
            "(1471361, 5) (1471361, 1) (1471361, 1)\n",
            "(1483219, 5) (1483219, 1) (1483219, 1)\n",
            "(1448090, 5) (1448090, 1) (1448090, 1)\n",
            "(1447411, 5) (1447411, 1) (1447411, 1)\n",
            "(1375814, 5) (1375814, 1) (1375814, 1)\n"
          ],
          "name": "stdout"
        }
      ]
    },
    {
      "cell_type": "markdown",
      "metadata": {
        "id": "h3VEEOcZS4HM"
      },
      "source": [
        "Prepare the global training dataset: \n",
        "\n",
        "1.   XX_all - input data\n",
        "2.   YY_all - true labels\n",
        "3.   WW_all - event weights\n",
        "\n",
        "Than split the data between training and test datasets. \n",
        "\n",
        "\n"
      ]
    },
    {
      "cell_type": "code",
      "metadata": {
        "colab": {
          "base_uri": "https://localhost:8080/"
        },
        "id": "QrjGwZS1KCfX",
        "outputId": "0b109b9d-52d6-45ab-da32-4144b4429b6a"
      },
      "source": [
        "# make overall training and validation set\n",
        "\n",
        "XX_all = pd.concat(XX)\n",
        "YY_all = pd.concat(YY)\n",
        "WW_all = pd.concat(WEIGHT)\n",
        "\n",
        "print(XX_all.shape, YY_all.shape, WW_all.shape)\n",
        "\n",
        "x_train_all, x_test_all, y_train_all, y_test_all, sw_train_all, sw_test_all = train_test_split(XX_all, YY_all, WW_all, train_size=0.90, shuffle=True, random_state=42)\n",
        "\n"
      ],
      "execution_count": null,
      "outputs": [
        {
          "output_type": "stream",
          "text": [
            "(12973162, 5) (12973162, 1) (12973162, 1)\n"
          ],
          "name": "stdout"
        }
      ]
    },
    {
      "cell_type": "code",
      "metadata": {
        "id": "wTzQE-XVCnIP"
      },
      "source": [
        "# Define normalization of input data\n",
        "layer = preprocessing.Normalization()\n",
        "layer.adapt(x_train_all.to_numpy())"
      ],
      "execution_count": null,
      "outputs": []
    },
    {
      "cell_type": "markdown",
      "metadata": {
        "id": "fFIKF7IqT-7P"
      },
      "source": [
        "Prepare a small fully connected network"
      ]
    },
    {
      "cell_type": "code",
      "metadata": {
        "id": "NdRxWxj_3Amk"
      },
      "source": [
        "# prepare keras model\n",
        "\n",
        "def define_model():\n",
        "  n_nodes = 256 #16 #128\n",
        "  dropout = 0.01\n",
        "  # fully connected (dense) network\n",
        "  model = Sequential()\n",
        "  model.add(Dense(n_nodes, activation='relu', input_shape=(5,)))\n",
        "  model.add(Dropout(dropout))\n",
        "  model.add(Dense(n_nodes, activation='relu'))\n",
        "  model.add(Dropout(dropout))\n",
        "  model.add(Dense(n_nodes, activation='relu'))\n",
        "  model.add(Dropout(dropout))\n",
        "  model.add(Dense(1, activation='sigmoid'))\n",
        "\n",
        "  return model"
      ],
      "execution_count": null,
      "outputs": []
    },
    {
      "cell_type": "markdown",
      "metadata": {
        "id": "3U4fKefxUDhl"
      },
      "source": [
        "Train the network"
      ]
    },
    {
      "cell_type": "code",
      "metadata": {
        "id": "erHrHDxqNMrK"
      },
      "source": [
        "def fit_model(model, x_train, y_train, sw_train, x_val, y_val, sw_val):\n",
        "\n",
        "  print(\"compiling\")\n",
        "\n",
        "  '''\n",
        "  initial_learning_rate = 0.001\n",
        "  lr_schedule = tf.keras.optimizers.schedules.ExponentialDecay(\n",
        "    initial_learning_rate,\n",
        "    decay_steps=100,\n",
        "    decay_rate=0.96,\n",
        "    staircase=False)\n",
        "  '''  \n",
        "  def lr_schedule(epoch, lr):\n",
        "    decay_rate = 0.85\n",
        "    decay_step = 1\n",
        "    if epoch % decay_step == 0 and epoch:\n",
        "        #return lr * pow(decay_rate, np.floor(epoch / decay_step))\n",
        "        return lr * decay_rate\n",
        "    return lr\n",
        "  \n",
        "  optimizer = tf.keras.optimizers.Adam() #learning_rate=lr_schedule)\n",
        "\n",
        "  def get_lr_metric(optimizer):\n",
        "    def lr(y_true, y_pred):\n",
        "        return optimizer._decayed_lr(tf.float32) # I use ._decayed_lr method instead of .lr\n",
        "    return lr\n",
        "  lr_metric = get_lr_metric(optimizer) \n",
        "\n",
        "  #metrics=[tf.keras.metrics.AUC(name='auc')]\n",
        "  model.compile(loss='binary_crossentropy', # 'mse'  'binary_crossentropy'\n",
        "              optimizer=optimizer, #\"sgd\",\n",
        "              metrics=[tf.keras.metrics.AUC(name='auc'),lr_metric])\n",
        "  \n",
        "  es = EarlyStopping(\n",
        "    monitor=\"val_loss\",\n",
        "    patience=16,\n",
        "    verbose=1,\n",
        "    restore_best_weights=True\n",
        "  )\n",
        "\n",
        "\n",
        "  callback = tf.keras.callbacks.LearningRateScheduler(lr_schedule)\n",
        "\n",
        "  epochs = 100\n",
        "  batch_size=128\n",
        "  print(\"fitting\")\n",
        "  history = model.fit(x_train, y_train, \n",
        "                    sample_weight=sw_train,\n",
        "                    batch_size=batch_size,\n",
        "                    epochs=epochs,\n",
        "                    verbose=1,\n",
        "                    validation_data=(x_val, y_val, sw_val),\n",
        "                    callbacks=[es,callback])\n",
        "\n",
        "\n",
        "\n",
        "\n",
        "  return history, model\n",
        "#sample_weight = sw_train,"
      ],
      "execution_count": null,
      "outputs": []
    },
    {
      "cell_type": "markdown",
      "metadata": {
        "id": "THnaUavRUIuD"
      },
      "source": [
        "K-folding"
      ]
    },
    {
      "cell_type": "code",
      "metadata": {
        "id": "d1yl3UiW3IGt"
      },
      "source": [
        "# k-folding\n",
        "# evaluate model using k-fold cross-validation\n",
        "def evaluate_model(dataX, dataY, sw, n_folds=5):\n",
        "\n",
        "  scores, histories, models = list(), list(), list()\n",
        "  \n",
        "  # prepare cross validation\n",
        "  kfold = KFold(n_folds, shuffle=True, random_state=1)\n",
        "  # enumerate splits\n",
        "  for train_ix, test_ix in kfold.split(dataX):\n",
        "    # define model\n",
        "    model = define_model()\n",
        "    # select rows for train and test\n",
        "    trainX, trainY, trainSW, testX, testY, testSW = dataX[train_ix], dataY[train_ix], sw[train_ix], dataX[test_ix], dataY[test_ix], sw[test_ix]\n",
        "    # fit model\n",
        "    print(\"fit_model\")\n",
        "    history, model = fit_model(model, trainX, trainY, trainSW, testX, testY, testSW)\n",
        "    # evaluate model\n",
        "    loss, auc, _  = model.evaluate(testX, testY, verbose=0)\n",
        "    print(loss, auc)\n",
        "\t\t# stores scores\n",
        "    scores.append(loss)\n",
        "    histories.append(history)\n",
        "    models.append(model)\n",
        "\n",
        "    #save model\n",
        "    aux = '/content/drive/MyDrive/jkrzysiak/model'+str(len(models)-1)+'.h5'\n",
        "    model.save(aux)\n",
        "\n",
        "    # break the loop to avoid k-folding\n",
        "    break\n",
        "\n",
        "  return scores, histories, models"
      ],
      "execution_count": null,
      "outputs": []
    },
    {
      "cell_type": "markdown",
      "metadata": {
        "id": "geQS-DDEUNbF"
      },
      "source": [
        "Plot learning curves and summary of training"
      ]
    },
    {
      "cell_type": "code",
      "metadata": {
        "id": "e_3NjGeoN3cx"
      },
      "source": [
        "# plot diagnostic learning curves\n",
        "def summarize_diagnostics(histories):\n",
        "  plt.figure(figsize=(10,10))\n",
        "  for i in range(len(histories)):\n",
        "\t\t# plot loss\n",
        "    plt.subplot(2, 1, 1)\n",
        "    plt.title('Loss')\n",
        "    plt.plot(histories[i].history['loss'], color='blue', label='train')\n",
        "    plt.plot(histories[i].history['val_loss'], color='orange', label='test')\n",
        "    #plt.ylim(0,0.1)\n",
        "    plt.legend(['loss','val_loss'])\n",
        "    # plot accuracy\n",
        "    plt.subplot(2, 1, 2)\n",
        "    plt.title('Classification AUC')\n",
        "    plt.plot(histories[i].history['auc'], color='blue', label='train')\n",
        "    plt.plot(histories[i].history['val_auc'], color='orange', label='test')\n",
        "    #plt.ylim(0.9,1)\n",
        "    plt.legend(['auc','val_auc'])\n",
        "  plt.show()\n",
        " \n",
        "# summarize model performance\n",
        "def summarize_performance(scores):\n",
        "\t# print summary\n",
        "  print('Accuracy: mean=%.3f std=%.3f, n=%d' % (np.mean(scores)*100, np.std(scores)*100, len(scores)))\n",
        "\t# box and whisker plots of results\n",
        "  plt.figure(figsize=(10,10))\n",
        "  plt.boxplot(scores)\n",
        "  plt.show()\n"
      ],
      "execution_count": null,
      "outputs": []
    },
    {
      "cell_type": "markdown",
      "metadata": {
        "id": "gkkmbjdZUbf7"
      },
      "source": [
        "Actual training. The input DataFrame is converted into numpy arrays"
      ]
    },
    {
      "cell_type": "code",
      "metadata": {
        "id": "GtAkfYutN4jn"
      },
      "source": [
        "def network_fit(x_train_all, y_train_all, sw_train_all):\n",
        "\n",
        "\n",
        "  #convert to numpy\n",
        "\n",
        "  np_x_train_all = x_train_all.to_numpy()\n",
        "  np_y_train_all = y_train_all.to_numpy()\n",
        "  np_sw_train_all = sw_train_all.to_numpy()\n",
        "\n",
        "\n",
        "  # convert class vectors to binary class matrices\n",
        "  #np_y_train_all = to_categorical(np_y_train_all, num_classes=2)\n",
        "\n",
        "  # normalize input data\n",
        "  np_x_train_all = np.array(layer(np_x_train_all))\n",
        "\n",
        "  # Train the network. \n",
        "  n_folds = 100  # number of folds\n",
        "  scores, histories, models = evaluate_model(np_x_train_all, np_y_train_all, np_sw_train_all, n_folds=n_folds)\n",
        "\n",
        "  return scores, histories, models"
      ],
      "execution_count": null,
      "outputs": []
    },
    {
      "cell_type": "code",
      "metadata": {
        "colab": {
          "background_save": true,
          "base_uri": "https://localhost:8080/"
        },
        "id": "NSyMP645v_3F",
        "outputId": "f59a8812-68aa-468b-ae89-6ad5d640b033"
      },
      "source": [
        "# train the network\n",
        "scores, histories, models = network_fit(x_train_all, y_train_all, sw_train_all)"
      ],
      "execution_count": null,
      "outputs": [
        {
          "output_type": "stream",
          "text": [
            "fit_model\n",
            "compiling\n",
            "fitting\n",
            "Epoch 1/100\n",
            "90306/90306 [==============================] - 327s 4ms/step - loss: 0.0766 - auc: 0.8124 - lr: 9.9978e-04 - val_loss: 0.0583 - val_auc: 0.8462 - val_lr: 9.9999e-04\n",
            "Epoch 2/100\n",
            "90306/90306 [==============================] - 311s 3ms/step - loss: 0.0671 - auc: 0.8338 - lr: 8.5023e-04 - val_loss: 0.0600 - val_auc: 0.8387 - val_lr: 8.5001e-04\n",
            "Epoch 3/100\n",
            "90306/90306 [==============================] - 312s 3ms/step - loss: 0.0622 - auc: 0.8141 - lr: 7.2241e-04 - val_loss: 0.0573 - val_auc: 0.8257 - val_lr: 7.2251e-04\n",
            "Epoch 4/100\n",
            "90306/90306 [==============================] - 314s 3ms/step - loss: 0.0592 - auc: 0.8439 - lr: 6.1416e-04 - val_loss: 0.0585 - val_auc: 0.8699 - val_lr: 6.1413e-04\n",
            "Epoch 5/100\n",
            "90306/90306 [==============================] - 311s 3ms/step - loss: 0.0581 - auc: 0.8530 - lr: 5.2211e-04 - val_loss: 0.0566 - val_auc: 0.8450 - val_lr: 5.2201e-04\n",
            "Epoch 6/100\n",
            "90306/90306 [==============================] - 309s 3ms/step - loss: 0.0581 - auc: 0.8470 - lr: 4.4381e-04 - val_loss: 0.0562 - val_auc: 0.8483 - val_lr: 4.4370e-04\n",
            "Epoch 7/100\n",
            "90306/90306 [==============================] - 312s 3ms/step - loss: 0.0569 - auc: 0.8461 - lr: 3.7714e-04 - val_loss: 0.0597 - val_auc: 0.8552 - val_lr: 3.7715e-04\n",
            "Epoch 8/100\n",
            "90306/90306 [==============================] - 312s 3ms/step - loss: 0.0575 - auc: 0.8543 - lr: 3.2050e-04 - val_loss: 0.0601 - val_auc: 0.8636 - val_lr: 3.2058e-04\n",
            "Epoch 9/100\n",
            "90306/90306 [==============================] - 312s 3ms/step - loss: 0.0565 - auc: 0.8537 - lr: 2.7253e-04 - val_loss: 0.0561 - val_auc: 0.8588 - val_lr: 2.7249e-04\n",
            "Epoch 10/100\n",
            "90306/90306 [==============================] - 313s 3ms/step - loss: 0.0560 - auc: 0.8573 - lr: 2.3163e-04 - val_loss: 0.0569 - val_auc: 0.8605 - val_lr: 2.3162e-04\n",
            "Epoch 11/100\n",
            "90306/90306 [==============================] - 314s 3ms/step - loss: 0.0558 - auc: 0.8596 - lr: 1.9683e-04 - val_loss: 0.0571 - val_auc: 0.8594 - val_lr: 1.9687e-04\n",
            "Epoch 12/100\n",
            "90306/90306 [==============================] - 314s 3ms/step - loss: 0.0554 - auc: 0.8566 - lr: 1.6730e-04 - val_loss: 0.0624 - val_auc: 0.8566 - val_lr: 1.6734e-04\n",
            "Epoch 13/100\n",
            "90306/90306 [==============================] - 317s 4ms/step - loss: 0.0551 - auc: 0.8579 - lr: 1.4221e-04 - val_loss: 0.0543 - val_auc: 0.8521 - val_lr: 1.4224e-04\n",
            "Epoch 14/100\n",
            "90306/90306 [==============================] - 317s 4ms/step - loss: 0.0551 - auc: 0.8564 - lr: 1.2095e-04 - val_loss: 0.0549 - val_auc: 0.8584 - val_lr: 1.2091e-04\n",
            "Epoch 15/100\n",
            "90306/90306 [==============================] - 312s 3ms/step - loss: 0.0551 - auc: 0.8584 - lr: 1.0281e-04 - val_loss: 0.0550 - val_auc: 0.8617 - val_lr: 1.0277e-04\n",
            "Epoch 16/100\n",
            "90306/90306 [==============================] - 314s 3ms/step - loss: 0.0541 - auc: 0.8599 - lr: 8.7326e-05 - val_loss: 0.0562 - val_auc: 0.8586 - val_lr: 8.7354e-05\n",
            "Epoch 17/100\n",
            "90306/90306 [==============================] - 315s 3ms/step - loss: 0.0548 - auc: 0.8585 - lr: 7.4244e-05 - val_loss: 0.0545 - val_auc: 0.8625 - val_lr: 7.4252e-05\n",
            "Epoch 18/100\n",
            "90306/90306 [==============================] - 316s 4ms/step - loss: 0.0545 - auc: 0.8592 - lr: 6.3110e-05 - val_loss: 0.0543 - val_auc: 0.8613 - val_lr: 6.3114e-05\n",
            "Epoch 19/100\n",
            "90306/90306 [==============================] - 313s 3ms/step - loss: 0.0543 - auc: 0.8596 - lr: 5.3648e-05 - val_loss: 0.0543 - val_auc: 0.8611 - val_lr: 5.3647e-05\n",
            "Epoch 20/100\n",
            "90306/90306 [==============================] - 314s 3ms/step - loss: 0.0542 - auc: 0.8591 - lr: 4.5603e-05 - val_loss: 0.0544 - val_auc: 0.8624 - val_lr: 4.5600e-05\n",
            "Epoch 21/100\n",
            "90306/90306 [==============================] - 313s 3ms/step - loss: 0.0544 - auc: 0.8597 - lr: 3.8765e-05 - val_loss: 0.0544 - val_auc: 0.8601 - val_lr: 3.8759e-05\n",
            "Epoch 22/100\n",
            "90306/90306 [==============================] - 315s 3ms/step - loss: 0.0538 - auc: 0.8592 - lr: 3.2934e-05 - val_loss: 0.0541 - val_auc: 0.8633 - val_lr: 3.2946e-05\n",
            "Epoch 23/100\n",
            "90306/90306 [==============================] - 313s 3ms/step - loss: 0.0546 - auc: 0.8596 - lr: 2.8008e-05 - val_loss: 0.0541 - val_auc: 0.8637 - val_lr: 2.8004e-05\n",
            "Epoch 24/100\n",
            "90306/90306 [==============================] - 316s 3ms/step - loss: 0.0542 - auc: 0.8604 - lr: 2.3806e-05 - val_loss: 0.0544 - val_auc: 0.8623 - val_lr: 2.3803e-05\n",
            "Epoch 25/100\n",
            "90306/90306 [==============================] - 315s 3ms/step - loss: 0.0538 - auc: 0.8598 - lr: 2.0231e-05 - val_loss: 0.0542 - val_auc: 0.8609 - val_lr: 2.0233e-05\n",
            "Epoch 26/100\n",
            "90306/90306 [==============================] - 316s 3ms/step - loss: 0.0542 - auc: 0.8595 - lr: 1.7201e-05 - val_loss: 0.0542 - val_auc: 0.8622 - val_lr: 1.7198e-05\n",
            "Epoch 27/100\n",
            "90306/90306 [==============================] - 316s 3ms/step - loss: 0.0543 - auc: 0.8596 - lr: 1.4620e-05 - val_loss: 0.0541 - val_auc: 0.8633 - val_lr: 1.4618e-05\n",
            "Epoch 28/100\n",
            "90306/90306 [==============================] - 310s 3ms/step - loss: 0.0545 - auc: 0.8599 - lr: 1.2421e-05 - val_loss: 0.0541 - val_auc: 0.8618 - val_lr: 1.2425e-05\n",
            "Epoch 29/100\n",
            "90306/90306 [==============================] - 304s 3ms/step - loss: 0.0542 - auc: 0.8590 - lr: 1.0558e-05 - val_loss: 0.0541 - val_auc: 0.8614 - val_lr: 1.0562e-05\n",
            "Epoch 30/100\n",
            "90306/90306 [==============================] - 307s 3ms/step - loss: 0.0542 - auc: 0.8591 - lr: 8.9763e-06 - val_loss: 0.0541 - val_auc: 0.8625 - val_lr: 8.9774e-06\n",
            "Epoch 31/100\n",
            "90306/90306 [==============================] - 323s 4ms/step - loss: 0.0545 - auc: 0.8596 - lr: 7.6297e-06 - val_loss: 0.0540 - val_auc: 0.8626 - val_lr: 7.6308e-06\n",
            "Epoch 32/100\n",
            "90306/90306 [==============================] - 316s 4ms/step - loss: 0.0543 - auc: 0.8599 - lr: 6.4879e-06 - val_loss: 0.0542 - val_auc: 0.8622 - val_lr: 6.4862e-06\n",
            "Epoch 33/100\n",
            "90306/90306 [==============================] - 318s 4ms/step - loss: 0.0544 - auc: 0.8593 - lr: 5.5134e-06 - val_loss: 0.0541 - val_auc: 0.8620 - val_lr: 5.5133e-06\n",
            "Epoch 34/100\n",
            "90306/90306 [==============================] - 317s 4ms/step - loss: 0.0539 - auc: 0.8601 - lr: 4.6838e-06 - val_loss: 0.0541 - val_auc: 0.8621 - val_lr: 4.6862e-06\n",
            "Epoch 35/100\n",
            "90306/90306 [==============================] - 316s 4ms/step - loss: 0.0537 - auc: 0.8594 - lr: 3.9833e-06 - val_loss: 0.0541 - val_auc: 0.8623 - val_lr: 3.9833e-06\n",
            "Epoch 36/100\n",
            "90306/90306 [==============================] - 320s 4ms/step - loss: 0.0543 - auc: 0.8597 - lr: 3.3847e-06 - val_loss: 0.0540 - val_auc: 0.8619 - val_lr: 3.3858e-06\n",
            "Epoch 37/100\n",
            "90306/90306 [==============================] - 320s 4ms/step - loss: 0.0545 - auc: 0.8593 - lr: 2.8774e-06 - val_loss: 0.0541 - val_auc: 0.8621 - val_lr: 2.8779e-06\n",
            "Epoch 38/100\n",
            "90306/90306 [==============================] - 321s 4ms/step - loss: 0.0545 - auc: 0.8594 - lr: 2.4456e-06 - val_loss: 0.0541 - val_auc: 0.8623 - val_lr: 2.4463e-06\n",
            "Epoch 39/100\n",
            "90306/90306 [==============================] - 317s 4ms/step - loss: 0.0538 - auc: 0.8598 - lr: 2.0794e-06 - val_loss: 0.0541 - val_auc: 0.8619 - val_lr: 2.0793e-06\n",
            "Epoch 40/100\n",
            "90306/90306 [==============================] - 318s 4ms/step - loss: 0.0540 - auc: 0.8595 - lr: 1.7669e-06 - val_loss: 0.0541 - val_auc: 0.8617 - val_lr: 1.7674e-06\n",
            "Epoch 41/100\n",
            "90306/90306 [==============================] - 320s 4ms/step - loss: 0.0540 - auc: 0.8596 - lr: 1.5027e-06 - val_loss: 0.0541 - val_auc: 0.8618 - val_lr: 1.5023e-06\n",
            "Epoch 42/100\n",
            "90306/90306 [==============================] - 321s 4ms/step - loss: 0.0542 - auc: 0.8594 - lr: 1.2769e-06 - val_loss: 0.0541 - val_auc: 0.8622 - val_lr: 1.2770e-06\n",
            "Epoch 43/100\n",
            "90306/90306 [==============================] - 323s 4ms/step - loss: 0.0542 - auc: 0.8595 - lr: 1.0853e-06 - val_loss: 0.0541 - val_auc: 0.8620 - val_lr: 1.0854e-06\n",
            "Epoch 44/100\n",
            "90306/90306 [==============================] - 325s 4ms/step - loss: 0.0539 - auc: 0.8593 - lr: 9.2284e-07 - val_loss: 0.0541 - val_auc: 0.8621 - val_lr: 9.2259e-07\n",
            "Epoch 45/100\n",
            "90306/90306 [==============================] - 322s 4ms/step - loss: 0.0542 - auc: 0.8596 - lr: 7.8452e-07 - val_loss: 0.0541 - val_auc: 0.8622 - val_lr: 7.8422e-07\n",
            "Epoch 46/100\n",
            "90306/90306 [==============================] - 322s 4ms/step - loss: 0.0544 - auc: 0.8594 - lr: 6.6670e-07 - val_loss: 0.0541 - val_auc: 0.8618 - val_lr: 6.6658e-07\n",
            "Epoch 47/100\n",
            "90306/90306 [==============================] - 323s 4ms/step - loss: 0.0538 - auc: 0.8594 - lr: 5.6640e-07 - val_loss: 0.0541 - val_auc: 0.8620 - val_lr: 5.6659e-07\n",
            "Restoring model weights from the end of the best epoch.\n",
            "Epoch 00047: early stopping\n",
            "1.3234355449676514 0.862569272518158\n"
          ],
          "name": "stdout"
        }
      ]
    },
    {
      "cell_type": "markdown",
      "metadata": {
        "id": "rCQuv2CPUpRK"
      },
      "source": [
        "Make plots"
      ]
    },
    {
      "cell_type": "code",
      "metadata": {
        "colab": {
          "background_save": true
        },
        "id": "JCXxcc3lOGpq",
        "outputId": "eaa28d6f-0515-4a4e-9c3b-cb69e7dea534"
      },
      "source": [
        "# learning curves\n",
        "print(histories[0].history.keys() )\n",
        "summarize_diagnostics(histories)\n",
        "# summarize estimated performance\n",
        "summarize_performance(scores)\n",
        " \n",
        "print(\"Scores: \",scores)\n"
      ],
      "execution_count": null,
      "outputs": [
        {
          "output_type": "stream",
          "text": [
            "dict_keys(['loss', 'auc', 'lr', 'val_loss', 'val_auc', 'val_lr'])\n"
          ],
          "name": "stdout"
        },
        {
          "output_type": "display_data",
          "data": {
            "image/png": "[encoded data removed]",
            "text/plain": [
              "<Figure size 720x720 with 2 Axes>"
            ]
          },
          "metadata": {
            "tags": []
          }
        },
        {
          "output_type": "stream",
          "text": [
            "Accuracy: mean=132.344 std=0.000, n=1\n"
          ],
          "name": "stdout"
        },
        {
          "output_type": "display_data",
          "data": {
            "image/png": "[encoded data removed]",
            "text/plain": [
              "<Figure size 720x720 with 1 Axes>"
            ]
          },
          "metadata": {
            "tags": []
          }
        },
        {
          "output_type": "stream",
          "text": [
            "Scores:  [1.3234355449676514]\n"
          ],
          "name": "stdout"
        }
      ]
    },
    {
      "cell_type": "markdown",
      "metadata": {
        "id": "GZs00ylcNjLY"
      },
      "source": [
        "Calculate AUC"
      ]
    },
    {
      "cell_type": "code",
      "metadata": {
        "colab": {
          "background_save": true
        },
        "id": "__lS4fKuNhi-"
      },
      "source": [
        "def getAuc(x, y):\n",
        "    \"\"\"Compute Area Under the Curve (AUC) using the trapezoidal rule.\n",
        "    This is a general function, given points on a curve.  For computing the\n",
        "    area under the ROC-curve, see :func:`roc_auc_score`.  For an alternative\n",
        "    way to summarize a precision-recall curve, see\n",
        "    :func:`average_precision_score`.\n",
        "    Parameters\n",
        "    ----------\n",
        "    x : ndarray of shape (n,)\n",
        "        x coordinates. These must be either monotonic increasing or monotonic\n",
        "        decreasing.\n",
        "    y : ndarray of shape, (n,)\n",
        "        y coordinates.\n",
        "    Returns\n",
        "    -------\n",
        "    auc : float\n",
        "    See Also\n",
        "    --------\n",
        "    roc_auc_score : Compute the area under the ROC curve.\n",
        "    average_precision_score : Compute average precision from prediction scores.\n",
        "    precision_recall_curve : Compute precision-recall pairs for different\n",
        "        probability thresholds.\n",
        "    Examples\n",
        "    --------\n",
        "    >>> import numpy as np\n",
        "    >>> from sklearn import metrics\n",
        "    >>> y = np.array([1, 1, 2, 2])\n",
        "    >>> pred = np.array([0.1, 0.4, 0.35, 0.8])\n",
        "    >>> fpr, tpr, thresholds = metrics.roc_curve(y, pred, pos_label=2)\n",
        "    >>> metrics.auc(fpr, tpr)\n",
        "    0.75\n",
        "    \"\"\"\n",
        "    from sklearn.utils import check_consistent_length\n",
        "    from sklearn.utils import column_or_1d, check_array\n",
        "\n",
        "\n",
        "    check_consistent_length(x, y)\n",
        "    x = column_or_1d(x)\n",
        "    y = column_or_1d(y)\n",
        "\n",
        "    if x.shape[0] < 2:\n",
        "        raise ValueError('At least 2 points are needed to compute'\n",
        "                         ' area under curve, but x.shape = %s' % x.shape)\n",
        "\n",
        "    direction = 1\n",
        "    dx = np.diff(x)\n",
        "\n",
        "    if np.count_nonzero(dx>=0) < np.count_nonzero(dx<=0):\n",
        "      direction = -1\n",
        "\n",
        "    # remove elements with diff<=0 \n",
        "    x=np.delete(x,np.nonzero(direction*dx <= 0))\n",
        "    y=np.delete(y,np.nonzero(direction*dx <= 0))\n",
        "    dx=np.delete(dx,np.nonzero(direction*dx <= 0))  \n",
        "    #print(\"dx<0 indices are \", np.nonzero(dx <= 0),np.array((np.nonzero(dx <= 0))).shape,dx[dx<=0]) \n",
        "\n",
        "    area = direction * np.trapz(y, x)\n",
        "    if isinstance(area, np.memmap):\n",
        "        # Reductions such as .sum used internally in np.trapz do not return a\n",
        "        # scalar by default for numpy.memmap instances contrary to\n",
        "        # regular numpy.ndarray instances.\n",
        "        area = area.dtype.type(area)\n",
        "    return area"
      ],
      "execution_count": null,
      "outputs": []
    },
    {
      "cell_type": "markdown",
      "metadata": {
        "id": "Y9pyKBgNV7Lv"
      },
      "source": [
        "Build an ensamble of networks trained using k-folding and test it on test data\n",
        "\n",
        "---\n",
        "\n"
      ]
    },
    {
      "cell_type": "code",
      "metadata": {
        "colab": {
          "background_save": true
        },
        "id": "KI5dTxK1yTf9"
      },
      "source": [
        "#ensamble of networks\n",
        "def test_ensamble(x_test_all, y_test_all, sw_test_all):\n",
        "  \n",
        "  #Limit the number of events\n",
        "  #n_events = 100000\n",
        "  #x_test_all, y_test_all, sw_test_all = x_test_all[0:n_events], y_test_all[0:n_events], sw_test_all[0:n_events]\n",
        "\n",
        "\n",
        "  mask_s = np.in1d(y_test_all.vClass, 1.)\n",
        "  mask_b = np.in1d(y_test_all.vClass, 0.)\n",
        "\n",
        "  #test data\n",
        "  np_x_test_all = x_test_all.to_numpy()\n",
        "  np_x_test_all_s = x_test_all[mask_s].to_numpy()\n",
        "  np_x_test_all_b = x_test_all[mask_b].to_numpy()\n",
        "  np_y_test_all = y_test_all.to_numpy()\n",
        "  np_sw_test_all = sw_test_all.to_numpy()\n",
        "  np_sw_test_all_s = sw_test_all[mask_s].to_numpy()\n",
        "  np_sw_test_all_b = sw_test_all[mask_b].to_numpy()\n",
        "\n",
        "\n",
        "\n",
        "  # normalize test data\n",
        "  np_x_test_all = np.array(layer(np_x_test_all))\n",
        "  np_x_test_all_s = np.array(layer(np_x_test_all_s))\n",
        "  np_x_test_all_b = np.array(layer(np_x_test_all_b))\n",
        "\n",
        "\n",
        "  # make predictions\n",
        "  yhats = [model.predict(np_x_test_all)[:,0] for model in models]\n",
        "  yhats_s = [model.predict(np_x_test_all_s)[:,0] for model in models]\n",
        "  yhats_b = [model.predict(np_x_test_all_b)[:,0] for model in models]\n",
        "\n",
        "  # sum across ensambles\n",
        "  summed = np.sum(yhats, axis=0)/len(models)\n",
        "  summed_s = np.sum(yhats_s, axis=0)/len(models)\n",
        "  summed_b = np.sum(yhats_b, axis=0)/len(models)\n",
        "\n",
        "  # replace negative values by zero\n",
        "  #summed[summed<0] = 0\n",
        "  #summed_s[summed_s<0] = 0\n",
        "  #summed_b[summed_b<0] = 0\n",
        "  \n",
        "  # func to calculate auc\n",
        "\n",
        "  fpr, tpr, tresholds = roc_curve(np_y_test_all, summed, sample_weight=np_sw_test_all, drop_intermediate=False)\n",
        "  print(\"Number of ROC thresholds: \", tresholds.shape)\n",
        "  r_auc = getAuc(fpr,tpr)\n",
        "  print('auc = ',r_auc)\n",
        "\n",
        "\n",
        "  #m = tf.keras.metrics.AUC(num_thresholds=1000)\n",
        "  #m.update_state(np_y_test_all, summed, sample_weight=np_sw_test_all)\n",
        "  #r_auc = m.result().numpy()\n",
        "  #print(\"r_auc (ensamble) == \",r_auc)\n",
        "\n",
        "  aucs = []\n",
        "  for i in range(len(models)):\n",
        "    yyhats = models[i].predict(np_x_test_all)[:,0]\n",
        "    #m.update_state(np_y_test_all, yyhats, sample_weight=np_sw_test_all)\n",
        "    #aucs.append(m.result().numpy())\n",
        "    fpr, tpr, tresholds = roc_curve(np_y_test_all, yyhats, sample_weight=np_sw_test_all, drop_intermediate=False)\n",
        "    aucs.append(getAuc(fpr,tpr))\n",
        "\n",
        "\n",
        "  av_auc = np.mean(aucs)\n",
        "\n",
        "  \n",
        "\n",
        "  #plot roc\n",
        "  plt.figure(figsize=(6,4))\n",
        "  plt.plot(1-fpr,tpr)\n",
        "  plt.xlabel(\"Efficiency\")\n",
        "  plt.ylabel(\"Rejection\")\n",
        "  plt.title(\"ROC curve\")\n",
        "  plt.show()\n",
        "\n",
        "  summed = summed.reshape((len(summed),1))\n",
        "  summed_s = summed_s.reshape((len(summed_s),1))\n",
        "  summed_b = summed_b.reshape((len(summed_b),1))\n",
        "\n",
        "  \n",
        "  plt.figure(figsize=(6,4))\n",
        "  plt.hist(summed_s, weights=np_sw_test_all_s, bins=200, label=\"Signal\",log=False, alpha=0.5, histtype='stepfilled')  \n",
        "  plt.hist(summed_b, weights=np_sw_test_all_b, bins=200, label=\"Bckg.\",log=False, alpha=0.5, histtype='stepfilled')\n",
        "  plt.ylim(bottom=0)\n",
        "  plt.xlabel(\"probability\")\n",
        "  plt.legend()\n",
        "  plt.show()\n",
        "\n",
        "  return r_auc, av_auc, aucs"
      ],
      "execution_count": null,
      "outputs": []
    },
    {
      "cell_type": "markdown",
      "metadata": {
        "id": "4mnM3WNkza5R"
      },
      "source": [
        "Test accuracy"
      ]
    },
    {
      "cell_type": "code",
      "metadata": {
        "colab": {
          "background_save": true
        },
        "id": "D_qbxCLpv_Zo"
      },
      "source": [
        "def accuracy_ensamble(x_test_all, y_test_all, sw_test_all):\n",
        "\n",
        "  mask_s = np.in1d(y_test_all.vClass, 1.)\n",
        "  mask_b = np.in1d(y_test_all.vClass, 0.)\n",
        "\n",
        "  #test data\n",
        "  #np_x_test_all = x_test_all.to_numpy()\n",
        "  np_x_test_all_s = x_test_all[mask_s].to_numpy()\n",
        "  np_x_test_all_b = x_test_all[mask_b].to_numpy()\n",
        "  #np_y_test_all = y_test_all.to_numpy()\n",
        "  #np_sw_test_all = sw_test_all.to_numpy()\n",
        "  np_sw_test_all_s = sw_test_all[mask_s].to_numpy()\n",
        "  np_sw_test_all_b = sw_test_all[mask_b].to_numpy()\n",
        "\n",
        "  np_sw_test_all_s = np_sw_test_all_s.reshape((len(np_sw_test_all_s)))\n",
        "  np_sw_test_all_b = np_sw_test_all_b.reshape((len(np_sw_test_all_b)))\n",
        "\n",
        "  # normalize test data\n",
        "  #np_x_test_all = np.array(layer(np_x_test_all))\n",
        "  np_x_test_all_s = np.array(layer(np_x_test_all_s))\n",
        "  np_x_test_all_b = np.array(layer(np_x_test_all_b))\n",
        "\n",
        "\n",
        "  # make predictions\n",
        "  #yhats = [model.predict(np_x_test_all)[:,0] for model in models]\n",
        "  yhats_s = [model.predict(np_x_test_all_s)[:,0] for model in models]\n",
        "  yhats_b = [model.predict(np_x_test_all_b)[:,0] for model in models]\n",
        "\n",
        "  # sum across ensambles\n",
        "  #summed = np.sum(yhats, axis=0)/len(models)\n",
        "  summed_s = np.sum(yhats_s, axis=0)/len(models)\n",
        "  summed_b = np.sum(yhats_b, axis=0)/len(models)\n",
        "\n",
        "  cut=0.5\n",
        "  summed_s[summed_s>cut] = 1\n",
        "  summed_s[summed_s<cut] = 0\n",
        "  summed_b[summed_b>cut] = 1\n",
        "  summed_b[summed_b<cut] = 0\n",
        "\n",
        "  isummed_s = summed_s.astype(np.int32)\n",
        "  isummed_b = summed_b.astype(np.int32)\n",
        "\n",
        "\n",
        "  false_neg, true_pos = np.bincount(isummed_s, weights=np_sw_test_all_s)\n",
        "  #false_neg=np.bincount((1-isummed_s), weights=np_sw_test_all_s)\n",
        "  true_neg, false_pos = np.bincount(isummed_b, weights=np_sw_test_all_b)\n",
        "  #false_pos=np.bincount((1-isummed_b), weights=np_sw_test_all_b)\n",
        "\n",
        "  #print(\"true_pos = \",true_pos)\n",
        "  #print(\"false_neg = \",false_neg)\n",
        "  #print(\"true_neg = \",true_neg)\n",
        "  print(\"false_pos = \",false_pos)\n",
        "\n",
        "  sensitivity = true_pos / (true_pos+false_neg)\n",
        "  specificity = true_neg / (true_neg+false_pos)\n",
        "  accuracy    = (true_pos + true_neg)/(true_pos + true_neg + false_neg + false_pos)\n",
        "\n",
        "  print(\"accuracy = \",accuracy,\", specificity = \", specificity,\", sensitivity = \", sensitivity)\n",
        "\n",
        "  return accuracy, specificity, sensitivity"
      ],
      "execution_count": null,
      "outputs": []
    },
    {
      "cell_type": "markdown",
      "metadata": {
        "id": "7lBRPrbsWUoZ"
      },
      "source": [
        "Split test data according to signal_mass and test the classifier performance separately on each subsample"
      ]
    },
    {
      "cell_type": "code",
      "metadata": {
        "id": "b_FHkGnuCo87"
      },
      "source": [
        "auc_list = []\n",
        "av_auc_list = []\n",
        "aucs_list = []\n",
        "\n",
        "acc_list = []\n",
        "spec_list = []\n",
        "sens_list = []\n",
        "\n",
        "for m in masses:\n",
        "  print(\"signal_mass = \",m)\n",
        "  mask = np.in1d(x_test_all.signal_mass, m)\n",
        "  #mask = np.in1d(x_train_all.signal_mass, m)\n",
        "\n",
        "  x_test_m = x_test_all[mask]\n",
        "  y_test_m = y_test_all[mask]\n",
        "  sw_test_m = sw_test_all[mask]\n",
        "\n",
        "  #x_test_m = x_train_all[mask]\n",
        "  #y_test_m = y_train_all[mask]\n",
        "  #sw_test_m = sw_train_all[mask]\n",
        "\n",
        "  auc, av_auc, aucs = test_ensamble(x_test_m, y_test_m, sw_test_m)\n",
        "  auc_list.append(auc)\n",
        "  av_auc_list.append(av_auc)\n",
        "  aucs_list.append(aucs)\n",
        "\n",
        "  accuracy, specificity, sensitivity = accuracy_ensamble(x_test_m, y_test_m, sw_test_m)\n",
        "  acc_list.append(accuracy)\n",
        "  spec_list.append(specificity)\n",
        "  sens_list.append(sensitivity)\n",
        "  \n",
        "  print(\"-------------------------------------------\")\n"
      ],
      "execution_count": null,
      "outputs": []
    },
    {
      "cell_type": "markdown",
      "metadata": {
        "id": "EgDegcX-WjKr"
      },
      "source": [
        "Plot the dependence of AUC (Area Under Curve of ROC) on signal_mass "
      ]
    },
    {
      "cell_type": "code",
      "metadata": {
        "id": "3tufm5SPLw3A"
      },
      "source": [
        "\n",
        "plt.figure(figsize=(6,6))\n",
        "plt.plot(masses, np.array(auc_list))\n",
        "plt.title('Combined AUC vs signal_mass')\n",
        "plt.xlabel(\"signal_mass\")\n",
        "plt.ylabel(\"AUC\")\n",
        "plt.show()\n",
        "\n",
        "print(aucs_list[0])\n",
        "\n",
        "plt.figure(figsize=(6,6))\n",
        "for i in range(len(aucs_list[0])):\n",
        "  aux=[]\n",
        "  for k in range(len(aucs_list)):\n",
        "    aux.append(aucs_list[k][i])\n",
        "  plt.plot(masses, np.array(aux))\n",
        "plt.title('Single fold AUC vs signal_mass')\n",
        "plt.xlabel(\"signal_mass\")\n",
        "plt.ylabel(\"AUC\")\n",
        "plt.show()\n",
        "\n",
        "\n",
        "plt.figure(figsize=(6,6))\n",
        "plt.plot(masses, np.array(av_auc_list))\n",
        "plt.title('Mean single fold AUC vs signal_mass')\n",
        "plt.xlabel(\"signal_mass\")\n",
        "plt.ylabel(\"AUC\")\n",
        "plt.show()\n",
        "\n",
        "\n",
        "plt.figure(figsize=(6,6))\n",
        "plt.plot(masses, np.array(acc_list))\n",
        "plt.title('Accuracy vs signal_mass')\n",
        "plt.xlabel(\"signal_mass\")\n",
        "plt.ylabel(\"ACC\")\n",
        "plt.show()\n",
        "\n",
        "\n",
        "plt.figure(figsize=(6,6))\n",
        "plt.plot(masses, np.array(spec_list))\n",
        "plt.title('Specificity vs signal_mass')\n",
        "plt.xlabel(\"signal_mass\")\n",
        "plt.ylabel(\"ACC\")\n",
        "plt.show()\n",
        "\n",
        "\n",
        "plt.figure(figsize=(6,6))\n",
        "plt.plot(masses, np.array(sens_list))\n",
        "plt.title('Sensitivity vs signal_mass')\n",
        "plt.xlabel(\"signal_mass\")\n",
        "plt.ylabel(\"ACC\")\n",
        "plt.show()\n",
        "\n",
        "\n",
        "# Calling DataFrame constructor after zipping \n",
        "# both lists, with columns specified \n",
        "aucf = pd.DataFrame(list(zip(masses, auc_list, av_auc_list, acc_list, spec_list, sens_list)), \n",
        "               columns =['signal_mass', 'comb. auc', 'mean auc', 'acc', 'specificity', 'sensitivity']) \n",
        "aucf"
      ],
      "execution_count": null,
      "outputs": []
    },
    {
      "cell_type": "markdown",
      "metadata": {
        "id": "sjg9BQpPEz-4"
      },
      "source": [
        "Stop program execution"
      ]
    },
    {
      "cell_type": "code",
      "metadata": {
        "id": "6KYhE14wEyzG"
      },
      "source": [
        "import sys\n",
        "sys.exit()"
      ],
      "execution_count": null,
      "outputs": []
    },
    {
      "cell_type": "markdown",
      "metadata": {
        "id": "nG757xvVtmQy"
      },
      "source": [
        "Split test data according to signal_mass, than train and test a network separately for each subsample. "
      ]
    },
    {
      "cell_type": "code",
      "metadata": {
        "id": "akn7QqjXtmQ_"
      },
      "source": [
        "auc_list_sep = []\n",
        "\n",
        "for m in masses:\n",
        "  print(\"signal_mass = \",m)\n",
        "\n",
        "  #select events with a given signal_mass from the training dataset...\n",
        "  mask = np.in1d(x_train_all.signal_mass, m)\n",
        "\n",
        "  x_train_m = x_train_all[mask]\n",
        "  y_train_m = y_train_all[mask]\n",
        "  sw_train_m = sw_train_all[mask]\n",
        "\n",
        "  # ...and from the test dataset\n",
        "  mask = np.in1d(x_test_all.signal_mass, m)\n",
        "\n",
        "  x_test_m = x_test_all[mask]\n",
        "  y_test_m = y_test_all[mask]\n",
        "  sw_test_m = sw_test_all[mask]\n",
        "\n",
        "  # train the network\n",
        "  scores, histories, models = network_fit(x_train_m, y_train_m, sw_train_m)\n",
        "\n",
        "  # learning curves\n",
        "  print(histories[1].history.keys() )\n",
        "  summarize_diagnostics(histories)\n",
        "  # summarize estimated performance\n",
        "  summarize_performance(scores)\n",
        "  \n",
        "  print(\"Scores: \",scores)\n",
        "\n",
        "  # and now test the model\n",
        "  auc_list_sep.append(test_ensamble(x_test_m, y_test_m, sw_test_m))"
      ],
      "execution_count": null,
      "outputs": []
    },
    {
      "cell_type": "markdown",
      "metadata": {
        "id": "3DkHntSZzIzA"
      },
      "source": [
        "Plot the dependence of AUC (Area Under Curve of ROC) on signal_mass "
      ]
    },
    {
      "cell_type": "code",
      "metadata": {
        "id": "UbJbFAlBzIzL"
      },
      "source": [
        "\n",
        "plt.figure(figsize=(6,6))\n",
        "plt.plot(masses,auc_list_sep)\n",
        "plt.title('AUC vs signal_mass (separate nets)')\n",
        "plt.xlabel(\"signal_mass\")\n",
        "plt.ylabel(\"AUC\")\n",
        "plt.show()\n",
        "\n",
        "\n",
        "# Calling DataFrame constructor after zipping \n",
        "# both lists, with columns specified \n",
        "aucf = pd.DataFrame(list(zip(masses, auc_list_sep)), \n",
        "               columns =['signal_mass', 'auc']) \n",
        "aucf"
      ],
      "execution_count": null,
      "outputs": []
    }
  ]
}